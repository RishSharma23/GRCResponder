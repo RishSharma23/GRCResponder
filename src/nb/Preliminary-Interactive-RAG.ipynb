{
 "cells": [
  {
   "metadata": {},
   "cell_type": "markdown",
   "source": "# Imports",
   "id": "7c784dad58b1c097"
  },
  {
   "metadata": {
    "collapsed": true,
    "ExecuteTime": {
     "end_time": "2025-02-21T02:26:23.307693Z",
     "start_time": "2025-02-21T02:26:20.324664Z"
    }
   },
   "cell_type": "code",
   "source": [
    "import bs4\n",
    "from typing import List, TypedDict\n",
    "\n",
    "from langchain.text_splitter import RecursiveCharacterTextSplitter\n",
    "\n",
    "# Import Chroma vector store\n",
    "from langchain.vectorstores import Chroma\n",
    "from langchain_ollama import OllamaEmbeddings\n",
    "# Import the base Embeddings class from LangChain\n",
    "from langchain.embeddings.base import Embeddings\n",
    "\n",
    "\n",
    "from langchain.chat_models import init_chat_model\n",
    "\n",
    "from langchain_chroma import Chroma\n"
   ],
   "id": "initial_id",
   "outputs": [
    {
     "name": "stderr",
     "output_type": "stream",
     "text": [
      "USER_AGENT environment variable not set, consider setting it to identify your requests.\n"
     ]
    }
   ],
   "execution_count": 1
  },
  {
   "metadata": {},
   "cell_type": "markdown",
   "source": "# Load Local GRC Files",
   "id": "436f2a87a85cc2d4"
  },
  {
   "metadata": {
    "ExecuteTime": {
     "end_time": "2025-02-21T02:26:23.354212Z",
     "start_time": "2025-02-21T02:26:23.315210Z"
    }
   },
   "cell_type": "code",
   "source": [
    "from langchain_community.document_loaders import PyPDFLoader\n",
    "from langchain_community.document_loaders.generic import GenericLoader\n",
    "from langchain_community.document_loaders import FileSystemBlobLoader\n",
    "from langchain_community.document_loaders.parsers import PyPDFParser\n",
    "from pathlib import Path\n",
    "\n",
    "data_path = Path(\"../../data/test-pdfs\")\n",
    "\n",
    "assert(data_path.is_dir())\n",
    "\n",
    "loader = GenericLoader(\n",
    "    blob_loader=FileSystemBlobLoader(\n",
    "        path=data_path,\n",
    "        glob=\"*.pdf\",\n",
    "    ),\n",
    "    blob_parser=PyPDFParser(),\n",
    ")"
   ],
   "id": "d95505f05d371ba3",
   "outputs": [],
   "execution_count": 2
  },
  {
   "metadata": {
    "ExecuteTime": {
     "end_time": "2025-02-21T02:26:24.897393Z",
     "start_time": "2025-02-21T02:26:23.576089Z"
    }
   },
   "cell_type": "code",
   "source": [
    "docs = loader.load()\n",
    "# print(docs)\n",
    "# print(docs[0].page_content)\n",
    "# print([f'Document {i}: \\n{doc.metadata}\\n\\n' for i,doc in enumerate(docs,0)])"
   ],
   "id": "405e9e27b15403b2",
   "outputs": [],
   "execution_count": 3
  },
  {
   "metadata": {
    "ExecuteTime": {
     "end_time": "2025-02-21T02:26:29.021977Z",
     "start_time": "2025-02-21T02:26:24.918939Z"
    }
   },
   "cell_type": "code",
   "source": [
    "# Split the documents into chunks\n",
    "text_splitter = RecursiveCharacterTextSplitter(chunk_size=1000, chunk_overlap=200)\n",
    "all_splits = text_splitter.split_documents(docs)\n",
    "\n",
    "\n",
    "# Initialize the embeddings using nomic-embed-text\n",
    "\n",
    "embeddings = OllamaEmbeddings(model=\"nomic-embed-text\")\n",
    "\n",
    "# Create the Chroma vector store from documents and embeddings\n",
    "vector_store = Chroma(embedding_function=embeddings)\n",
    "\n",
    "# Index chunks\n",
    "document_ids = vector_store.add_documents(documents=all_splits)"
   ],
   "id": "cbe5e88866853af1",
   "outputs": [],
   "execution_count": 4
  },
  {
   "metadata": {
    "ExecuteTime": {
     "end_time": "2025-02-21T02:26:29.116511Z",
     "start_time": "2025-02-21T02:26:29.103006Z"
    }
   },
   "cell_type": "code",
   "source": "print(document_ids)",
   "id": "60023199f53fb6d6",
   "outputs": [
    {
     "name": "stdout",
     "output_type": "stream",
     "text": [
      "['2d8cca00-d713-492e-abff-4bd018baf188', '3ae936d5-7168-4ee8-953a-1f32a8b96d25', '7439b37b-7037-4c74-a029-9f769032aa1b', '706e3eff-9391-4169-bfa6-b8081a309d13', '38952204-3a39-41c1-a5f8-296bc45f95b9', 'f1b2778b-a064-4e34-9941-a8315dc5bd41', '6817649f-1577-43cb-910f-6da2fe2643e9', 'c088dbeb-5d55-47d9-baab-7eb32bb38c27', 'eed9af15-fa79-4038-84ff-95f162ef1cdd', '69ab187d-df4f-41b3-a221-813199c82135', 'f0e764e2-ef7b-4cb4-ab77-5e1497a7f28f', '16ed15e4-3b99-46e6-b4bd-cdc419dfc245', 'a8beb55c-86d9-4ba8-b557-92eef331f641', 'd7ccb51e-d630-4312-9d1f-d8b984d0c145', '846ed138-714d-45cf-85f3-bea0faf71325', 'b0154b8f-9e4d-4cd0-aa76-96991f851df1', '3e1af5dd-b7d4-4c0f-bd01-3ee1f8267a10', '54dc1ef7-cb8d-4918-b615-63c59659ea1a', 'c46055a1-ae3e-422e-b007-64ec90343633', 'f5c06197-6634-4e5b-9e3c-3d2821a567c1', 'e42fbbed-e71b-4f2d-a007-81e68502d91a', '090cec44-24df-4dda-bb80-31a0a42b4013', 'aefba02d-0a06-425b-831e-43a9c5806237', 'fe10ce65-a2bc-4e38-ad5a-7fb3e186c0b2', 'f5517f45-ae6a-48c9-9254-d3dd562171bb', '79fe93e2-be75-40ff-a70e-485243cf1e72', 'e5f121ed-5951-40bc-8770-c28804684869', '77de8f72-4d1f-401b-b078-79c9eab9de11', 'f07c5512-9216-4cd8-8064-0c2397ac1733', '9d41250b-d4e3-4779-99c5-2f4aa560cf2f', '27eeea86-0eaf-4968-80c6-070ccc09db54', 'e0ec99ac-360c-47eb-8a61-11ba47addd07', '40c1ae8d-03fb-4d41-95dc-77dec7608c5f', 'e4a5d89c-06d2-46d8-b433-e6b5f35b787b', '0c0498b3-d831-404b-97e6-ca7143dfcd04', 'e1503d00-ee85-4386-a760-f7b25c7ccf53', '97fd5658-16be-40ca-8ec0-5d17b8953a09', '84c62fd6-902d-4595-a805-66735ba2f58a', '61502e12-6b32-4f14-884b-4746e4c34433', '497248e1-3682-4b88-9140-64aa79d6c3f6', 'c72e2d42-953c-44ef-951f-a3d9ba3f533d', 'd2400021-a9fc-4744-a962-761ad2a94da8', 'f3ce0bbf-0259-4601-bab8-711cb476ac99', '6a7ca446-a522-40f0-b516-d0055c535541', 'a1045cbd-d2a7-404a-801e-df9ee5bcce36', '40745147-add1-42d4-92b4-21287b134c41', 'c61807af-1434-444c-8713-712075622a5c', 'c99347c1-2a0d-4743-9ced-9a63a935fbfa', '89e058eb-333e-4097-a067-5d0dd328c352', '721a7e52-91d2-4404-92ec-f881b438187a', 'a142557f-9f1e-4566-a016-75b386f0d0bf', '3f28d59d-7206-4f74-9dee-7ec020bf3de9', '4f9a2d5b-4307-44fb-a93d-60a4748a29a8', '1843a3b2-c203-4322-b349-3f81c6894afb', '7dabab65-69c7-4ea9-b887-593bdeab225f', '1258d149-bbc6-4723-abf6-5a6c45d0b846', 'ce033a46-b08b-464d-85e7-db5abb8bc9fe', '11e85430-897b-4ff4-8bbf-d604ced07082', 'a3766703-2bce-4bfc-b77b-0aafe03d25f4', 'e92ca8b8-dcc0-4a5f-ad6e-44acab5ab5cb', 'cc97aea5-6796-4aab-9fbc-5def908dc937', 'f90548cc-b2c2-4d2e-bdf0-0b61577fa4e1', '8a312907-e390-4424-91ce-3253e251e80a', '2b401bca-6bbf-4390-81da-051072bb0030', '1a1bb5d1-5497-439e-935d-fdcb5456f5b8', 'e6b7dfbb-47aa-4979-a281-8008a8adfce8', '7e35c1ca-73f5-4e55-824b-153b19052be7', '515373ac-80fb-40b0-85ad-b43e063872a3', '2fe3716f-6634-4819-8ea0-a945be65a07d', 'e3f84786-5046-47a9-b642-930662cbadd6', '09ed382c-330d-49cd-9825-cbc6e76a0c07', '91aa492f-6e66-47d3-9de4-03825e1c7d31', '1c02d7bf-ec17-45fa-83f7-714a2a45eab3', '8910c1dd-d0d5-4afb-be79-1e7bba3c5a38', '14596fae-da36-43f8-8f7e-4bcdb65a71b5', '1fe31fbe-eeab-4cf1-9808-e6e27502895c', '0079d29e-5de3-49ac-84c4-90ec2d0b5f25', '9338e85f-918e-4e07-a412-83bbf682b7bb', 'ce99e025-2786-41d8-8a15-eb74973e3a70', 'ae324ecb-6a24-46d7-8dc9-3b90d2415f06', '771f3c42-5db6-4646-baf2-a776edb2c2b4', 'aa6f3309-18a4-40fd-94df-d55fed4a9e47', '474e29eb-c719-4951-b66d-2492180b12a8', 'ba56494d-21b1-4d4e-a6ae-8bf495b52303', 'd6d78a73-d583-46d9-b224-0b223bfe3b72', 'cea7cfc3-7371-4ed9-b5a7-06708e668b72', 'abf51766-9d49-4bdb-9329-723d1796d454', '97f64e56-c383-4bd6-b54e-4c88718bf98c', '5df169a7-9a08-48f7-95c8-527513fed1b8', '16d1d4f3-4fa4-4218-af3b-f6796760c41e', 'adc4d4a1-6fd0-4fa0-9502-2aae29f0dbf0', '407fa927-dbe6-46a2-812a-13bb8a342634', 'a81942b7-d886-4338-af36-ef28c276acbe', '3b8e8edf-c2d5-4859-85bd-642fbabe96df', '7e6618cd-2d11-4ec5-b5fe-6409fab1edf0', '96c6acdd-58a0-4538-8985-a0c06c2f957a', '64fdfd62-19d9-4686-8979-6ae0673f29cf', '0523fcfc-8cf8-4e0b-87ac-70911704b962', '66c1757a-c013-4818-b3b9-58d2e5726c37', '36675c54-3f1a-461e-894f-1f18d4c8e048', '942f8faf-563c-4b07-b80f-02fcb7a8ecad', 'c5ca0c02-4f71-48dd-a26f-c06b2d736c1e', 'cc08cb26-12bc-4e2a-991b-794e4ef9ba5f', '7929b01a-8d5a-4f4b-a92c-992927ceb49f', '1d0b577a-2d9e-4439-8341-7e63e0558bf8', '111bbe1f-e9e7-4eb3-b56e-cfc6e63f1ea5', '57744c28-b9af-4117-afa6-1bb8b51f9e5f', 'e58b9fab-5529-4faa-afc2-57e4076cb16e', 'ebdc6ebf-2ce8-4943-a4e5-a793126fef75', '60c0baf0-8733-4d07-9b3e-4ae6f70f45fd', '19e9acc0-e725-4626-b1d5-41eed595a948', '7ac55325-84ec-48f8-b88e-d571292b797e', 'ea187574-8975-4416-91f1-62c6fbf30664', 'c6dd5103-5124-49ca-b286-8edd9a05dd27', '82eef4a2-c30a-49fb-bbbf-630445217ef2', 'bb132f10-841a-4e72-92fa-854f0219fc74', 'a3805e15-5169-465f-874d-75673c3046be', '8545f516-249c-40a7-bdb0-fbf13078ff94', '608d3162-4bc3-4236-8317-1c67f2db18ad', 'a1a3f2e1-4c4d-4eba-a730-3dfc2467a4db', '0ce92d28-0d08-4a2b-b03b-5f6e4c105fca', 'c925cd29-e381-4917-b15f-ed611b8d2724', 'a8a0d528-760d-4ed2-a671-cb5b2263df99', 'c622a601-e8cc-46cb-b5c8-28cff1b331fe', 'ee888c15-b1a3-49fb-b2d8-91dced028c8d', 'ce333fa4-89e6-4262-a7d8-12e4e3cab14e', '8aa90a64-2454-4701-8f4c-bb38080375ca', '7023e88c-498f-4984-958e-68fcf8d8f016', '25d1a089-99e5-44fb-8134-aebaece69288', '298dae34-44e9-4bd4-a5d6-61913bf9bbeb', '0f9a4c31-c2ea-432b-b028-38e0a42d7499', 'a44edc5c-1ebb-44b9-9f5b-eacabfb26836', '761f2166-32ab-452c-9e4c-391716f7d5c4', '951c99e6-1df7-47ca-b63e-7ff9620dc513', 'e6f6770f-4e21-4d74-be53-6368f4a8e4dd', 'da7d8596-bd8d-49d8-a0c2-8a1a127d9f85', '110bb565-2969-4277-bda3-f4f8980290ff', '3bb62602-3b37-4d53-9dcf-39a86a368d5b', '779320a3-2b2e-44be-83c9-675118fc5745', 'fd532841-af90-4945-aff8-537cb7ff15ca', '78a36390-460e-4d13-8b22-9fca2483f9da', '6b59502f-0e3d-4d24-9400-11c33383e4fa', '947997be-c596-4759-a53b-83549df6e801', 'c9ce8475-50b0-4856-bdb4-069d9a50bcc0', '47c3c552-489d-462e-925f-ce5ed0f7afed', '94e3dfea-35f3-4b94-9c7e-56f4397c6070', 'f290d369-f66e-49bd-b109-2bb4979c12e6', '47df164d-3cbc-4576-b432-656cebb58f36', '14fb7f1b-0fb2-472f-b24d-5c5a28ae69d1', 'a4790b7a-7e40-467a-867b-75ae98dd9c7f', '5fb97932-b9f4-41a2-80e6-7e16c7515761', 'd01bc621-9334-48c9-a300-f14cc4890245', 'e937ec9f-3775-4771-b7c9-da5086db635b', '0261df5c-8760-44d1-ac24-56adcc8dc488', '4d2f3e8f-0286-499f-b30b-a68fef0f975b', '60eeee97-c1de-4d89-bfcf-8c48474d8566', '2fafb937-c220-4cfe-8df8-5db54384b9c2', '7d115904-c570-4aa6-bcd9-042f0940628a', 'b6371d47-8ec8-4744-85d0-9bb9963c6757', 'b24ef0b4-06e7-4f5d-853d-9cb535489c43', '4d1c5c7d-762a-4089-bd20-515e92c4868b', '09cf000f-8610-49f8-a79e-1f4589d1f224', '73ab4bf3-aca6-4edd-8a3a-64888502a12e', '6ee17327-51ec-46b9-accf-74ea0179b8be', 'aa3f37ca-1061-40c8-9566-9aa8b4099591', '3f7ffcba-519c-4868-b8ea-f836fc49e17d', '8670ee8b-0289-4c3b-9364-9e1ef915a56d', 'ebb8037f-74bf-44b8-8e45-28de9c9447b6', '980ce53f-4c11-4222-bbfe-2f52c22de1f1', 'f59fd4da-a3ae-4fa4-8dc8-aab682290ebc', 'f54486a7-7810-4206-a8d3-d9be9566b357', '3b1574b3-5897-4f4c-8283-249e0d49f56c', '3651ff4f-8c44-4145-9e50-b0f78ed79eef', 'a327bf68-9e4c-4eaf-8b8e-151a3b359c43', '8f2bbab4-ae28-4146-9557-fc42f1840d57', 'd8fa1752-79fb-4447-989b-8166c49c8cbb', '2af4d27a-96fb-4c5c-acbc-95af06a1b85a', '970018ff-c8d1-47b4-a1ac-3c1f2c531e64', 'befd7064-20fc-44d8-b00e-714ec243b098', '113fc862-f657-48cb-be37-7feaf2120d0c', 'e079fb61-f399-497b-8734-0971fbcb3b0f', '08f540c5-7ea9-429c-9516-b955404b4eba', 'c638af32-ba8c-41e5-bf59-2b625ebd68c2', '13c49511-adc7-402e-974d-cebd06a86102', 'be9b1778-503a-4fa3-81e5-0724136b32d4', '17db4de6-61db-4c25-a94a-31867bfbd376', '29221698-d3a7-4e07-b498-f95aade91bf1', '9a695230-1db8-4ee2-bd1a-395e323257ce', '30219ee5-bd18-445d-af22-f86fd5c896ca', '2ef1574d-933d-4f65-8165-dec31cc56168', '79c067a0-3817-4bf2-a0d4-52edf6b9e2a6', '47d7c2bd-ce8a-4405-a9a3-db156dfd0774', '76b7e214-9161-4758-8cc2-807a81a1809c', 'a45618e7-81a9-484e-bab4-0287f9328d1b', 'b12efd0a-c31f-496a-8fa2-19d251dea242', '3f42c677-76dd-49d0-9a49-9fa67e5d3f3e', '9aa6ec6b-5913-4297-94f2-965d7cb18673', '457a6a5b-2f91-49a8-9402-28ee170f074a', 'ac1dc3e9-2e72-446a-8412-55339e867c24', '23527319-ed89-42b8-897c-709c3373cbef', '5f99573e-b396-43fa-9e2f-315e7aa20ce8', '0eeb0c46-6c5d-46a7-ae50-b6b7445cff61', 'b88f67e4-a2ce-4111-afaa-6595aaca5eee', 'a84ff556-9f35-4633-b56f-47ad4b076354', '6a872aec-f173-43ba-9599-db3a7fed3962', '4e00f694-91e3-47a5-b47c-0bcde2160744', '7cb7da07-c018-47ca-ad29-7a07b72bf328', '288c92f7-ac9b-4c0d-b038-549a2dec449b', '00385057-30ec-475b-b83f-368e89ce53d6', 'ecfd9908-977a-4388-a8c3-01cb36bef55a', 'd7e18a58-210e-4722-bc8d-d1604ebc7f78', '38f669e5-b353-424e-87c7-2d873c5a8930', '5c57a7a5-8da7-45c4-87a3-463d123f79c4', '24e59707-480e-4708-80ad-628a553f30bb', '0f2c5f30-3141-438b-a5cd-e96e2012a850', '77dc01d7-cec5-4df6-9460-bc82fab335ee', '391c3743-6ae3-42d7-8215-e5ad31bc0cc4', '14d84285-9e99-4912-bb11-3a33009d92c9', '72c2e3a9-e38a-45e2-9a8f-085511b76410', '084fa8be-e39d-477d-81fc-c8ebd7a53dcf', 'f003387f-7c33-42e6-9f52-cec03e9a2b07', '7ada37ba-57d0-4ee0-8b38-5ef9b8888859', '706c63e9-844c-4a74-943b-c506c4d3c966', '368e8ea5-b00e-43a1-bfb3-96c7ea4e48c6', 'fc4724b4-7479-4c59-b8bf-fda2a9cf769e', 'e194f9ae-8d02-484b-be59-dd00a4534d60', 'caab6132-e03c-4262-9ef4-e259c3df8e5e', '610cb8a3-2871-4931-a4db-6405c16272d2', '4d790aad-92ee-45ee-94da-aaf36048766f', '3203095a-f643-4956-a084-30090f7d4ebf', '96affa1b-5dc0-4425-98ea-113cba28d48b', '4f99fca0-ecff-4dbf-a069-e8c7ab1ab08b', '871f5f51-d2af-44d9-b567-d740fa66c783', 'a975399c-4c04-4c1b-814e-b3706e3b6f28', 'e2c739cf-7d76-4b05-b60c-500d2047c9de', '66835629-b711-4bd8-be1c-4945f28767a5']\n"
     ]
    }
   ],
   "execution_count": 5
  },
  {
   "metadata": {},
   "cell_type": "markdown",
   "source": "# Load LLM",
   "id": "b7a36c27c3dd3d33"
  },
  {
   "metadata": {
    "ExecuteTime": {
     "end_time": "2025-02-21T02:26:29.505717Z",
     "start_time": "2025-02-21T02:26:29.137521Z"
    }
   },
   "cell_type": "code",
   "source": "llm = init_chat_model(\"llama3.2:3b-instruct-q8_0\", model_provider=\"ollama\")",
   "id": "3b86a817cd58dc4c",
   "outputs": [],
   "execution_count": 6
  },
  {
   "metadata": {},
   "cell_type": "markdown",
   "source": "# RAG",
   "id": "74cec309744c8e4a"
  },
  {
   "metadata": {
    "ExecuteTime": {
     "end_time": "2025-02-21T05:11:42.148263Z",
     "start_time": "2025-02-21T05:11:41.927807Z"
    }
   },
   "cell_type": "code",
   "source": [
    "from langgraph.graph import MessagesState, StateGraph\n",
    "\n",
    "graph_builder = StateGraph(MessagesState)\n",
    "\n",
    "from langchain_core.tools import tool\n",
    "\n",
    "\n",
    "@tool(response_format=\"content_and_artifact\")\n",
    "def retrieve(query: str):\n",
    "    \"\"\"Retrieve information related to a query.\"\"\"\n",
    "    retrieved_docs = vector_store.similarity_search(query, k=2)\n",
    "    serialized = \"\\n\\n\".join(\n",
    "        (f\"Source: {doc.metadata}\\n\" f\"Content: {doc.page_content}\")\n",
    "        for doc in retrieved_docs\n",
    "    )\n",
    "    return serialized, retrieved_docs\n",
    "\n",
    "from langchain_core.messages import SystemMessage, HumanMessage, AIMessage\n",
    "from langgraph.prebuilt import ToolNode\n",
    "\n",
    "\n",
    "# Step 1: Generate an AIMessage that may include a tool-call to be sent.\n",
    "def query_or_respond(state: MessagesState):\n",
    "    \"\"\"Generate tool call for retrieval or respond.\"\"\"\n",
    "    llm_with_tools = llm.bind_tools([retrieve])\n",
    "    response = llm_with_tools.invoke(state[\"messages\"])\n",
    "    # MessagesState appends messages to state instead of overwriting\n",
    "    return {\"messages\": [response]}\n",
    "\n",
    "\n",
    "# Step 2: Execute the retrieval.\n",
    "tools = ToolNode([retrieve])\n",
    "\n",
    "\n",
    "# Step 3: Generate a response using the retrieved content.\n",
    "def generate(state: MessagesState):\n",
    "    \"\"\"Generate answer.\"\"\"\n",
    "    # Get generated ToolMessages\n",
    "    recent_tool_messages = []\n",
    "    for message in reversed(state[\"messages\"]):\n",
    "        if message.type == \"tool\":\n",
    "            recent_tool_messages.append(message)\n",
    "        else:\n",
    "            break\n",
    "    tool_messages = recent_tool_messages[::-1]\n",
    "\n",
    "    # Format into prompt\n",
    "    docs_content = \"\\n\\n\".join(doc.content for doc in tool_messages)\n",
    "    system_message_content = (\n",
    "        \"You are an assistant for question-answering tasks. \"\n",
    "        \"Use the following pieces of retrieved context to answer \"\n",
    "        \"the question. If you don't know the answer, say that you \"\n",
    "        \"don't know.\"\n",
    "        \"\\n\\n\"\n",
    "        f\"{docs_content}\"\n",
    "    )\n",
    "    conversation_messages = [\n",
    "        message\n",
    "        for message in state[\"messages\"]\n",
    "        if message.type in (\"human\", \"system\")\n",
    "        or (message.type == \"ai\" and not message.tool_calls)\n",
    "    ]\n",
    "    prompt = [SystemMessage(system_message_content)] + conversation_messages\n",
    "\n",
    "    # Run\n",
    "    response = llm.invoke(prompt)\n",
    "    return {\"messages\": [response]}\n",
    "\n",
    "from langgraph.graph import END\n",
    "from langgraph.prebuilt import ToolNode, tools_condition\n",
    "\n",
    "graph_builder.add_node(query_or_respond)\n",
    "graph_builder.add_node(tools)\n",
    "graph_builder.add_node(generate)\n",
    "\n",
    "graph_builder.set_entry_point(\"query_or_respond\")\n",
    "graph_builder.add_conditional_edges(\n",
    "    \"query_or_respond\",\n",
    "    tools_condition,\n",
    "    {END: END, \"tools\": \"tools\"},\n",
    ")\n",
    "graph_builder.add_edge(\"tools\", \"generate\")\n",
    "graph_builder.add_edge(\"generate\", END)\n",
    "\n",
    "graph = graph_builder.compile()"
   ],
   "id": "6a75da943de7fc65",
   "outputs": [],
   "execution_count": 58
  },
  {
   "metadata": {
    "ExecuteTime": {
     "end_time": "2025-02-21T03:43:17.564753Z",
     "start_time": "2025-02-21T03:43:17.428191Z"
    }
   },
   "cell_type": "code",
   "source": [
    "from IPython.display import Image, display\n",
    "\n",
    "display(Image(graph.get_graph().draw_mermaid_png()))"
   ],
   "id": "97f7297cb1fffd0f",
   "outputs": [
    {
     "data": {
      "image/png": "[encoded data removed]",
      "text/plain": [
       "<IPython.core.display.Image object>"
      ]
     },
     "metadata": {},
     "output_type": "display_data"
    }
   ],
   "execution_count": 14
  },
  {
   "metadata": {
    "ExecuteTime": {
     "end_time": "2025-02-21T05:12:42.945393Z",
     "start_time": "2025-02-21T05:12:06.255964Z"
    }
   },
   "cell_type": "code",
   "source": [
    "from langchain_core.messages.human import HumanMessage\n",
    "from langchain_core.messages.ai import AIMessage\n",
    "\n",
    "show_tool_output = False\n",
    "\n",
    "while True:\n",
    "    input_message = input()\n",
    "    if input_message == \"exit\":\n",
    "        break\n",
    "\n",
    "    for step in graph.stream(\n",
    "        {\"messages\": [{\"role\": \"user\", \"content\": input_message}]},\n",
    "        stream_mode=\"values\",\n",
    "    ):\n",
    "        if show_tool_output:\n",
    "            step[\"messages\"][-1].pretty_print()\n",
    "        else:\n",
    "            evnt = step[\"messages\"][-1]\n",
    "            if (type(evnt) == HumanMessage or type(evnt) == AIMessage) and evnt.content != '':\n",
    "                evnt.pretty_print()"
   ],
   "id": "d63e22c13a14283b",
   "outputs": [
    {
     "name": "stdout",
     "output_type": "stream",
     "text": [
      "================================\u001B[1m Human Message \u001B[0m=================================\n",
      "\n",
      "Hello!\n",
      "==================================\u001B[1m Ai Message \u001B[0m==================================\n",
      "\n",
      "Hello! How can I assist you today? Do you have a specific question or topic you'd like to discuss? I'll do my best to help based on the context I've been trained on.\n",
      "================================\u001B[1m Human Message \u001B[0m=================================\n",
      "\n",
      "Explain how RAG works\n",
      "==================================\u001B[1m Ai Message \u001B[0m==================================\n",
      "\n",
      "Based on the retrieved context, it appears that RAG (Retrieval-Augmented Generation) is a technology that enhances the capabilities of Large Language Models (LLMs) by integrating parameterized knowledge from language models with extensive non-parameterized data from external knowledge bases.\n",
      "\n",
      "Here's a high-level overview of how RAG works:\n",
      "\n",
      "1. **Knowledge Retrieval**: RAG uses an external knowledge base to retrieve relevant information related to a given input question or task.\n",
      "2. **Parameterized Knowledge Integration**: The retrieved knowledge is then integrated with the LLM using parameterized knowledge, which allows for flexible and dynamic updating of the model's knowledge graph.\n",
      "3. **Soft Prompting**: RAG employs soft prompting, which involves providing the LLM with a prompt that encourages it to generate answers based on both its internal knowledge and the external knowledge base.\n",
      "4. **LLM Generation**: The LLM generates a response to the input question or task using its internal knowledge and the integrated parameterized knowledge.\n",
      "\n",
      "The goal of RAG is to leverage the strengths of both LLMs and external knowledge bases to improve the accuracy and robustness of language understanding tasks, such as question-answering and text generation.\n"
     ]
    },
    {
     "ename": "KeyboardInterrupt",
     "evalue": "Interrupted by user",
     "output_type": "error",
     "traceback": [
      "\u001B[1;31m---------------------------------------------------------------------------\u001B[0m",
      "\u001B[1;31mKeyboardInterrupt\u001B[0m                         Traceback (most recent call last)",
      "Cell \u001B[1;32mIn[60], line 7\u001B[0m\n\u001B[0;32m      4\u001B[0m show_tool_output \u001B[38;5;241m=\u001B[39m \u001B[38;5;28;01mFalse\u001B[39;00m\n\u001B[0;32m      6\u001B[0m \u001B[38;5;28;01mwhile\u001B[39;00m \u001B[38;5;28;01mTrue\u001B[39;00m:\n\u001B[1;32m----> 7\u001B[0m     input_message \u001B[38;5;241m=\u001B[39m \u001B[38;5;28;43minput\u001B[39;49m\u001B[43m(\u001B[49m\u001B[43m)\u001B[49m\n\u001B[0;32m      8\u001B[0m     \u001B[38;5;28;01mif\u001B[39;00m input_message \u001B[38;5;241m==\u001B[39m \u001B[38;5;124m\"\u001B[39m\u001B[38;5;124mexit\u001B[39m\u001B[38;5;124m\"\u001B[39m:\n\u001B[0;32m      9\u001B[0m         \u001B[38;5;28;01mbreak\u001B[39;00m\n",
      "File \u001B[1;32m~\\anaconda3\\envs\\GRCResponder\\lib\\site-packages\\ipykernel\\kernelbase.py:1282\u001B[0m, in \u001B[0;36mKernel.raw_input\u001B[1;34m(self, prompt)\u001B[0m\n\u001B[0;32m   1280\u001B[0m     msg \u001B[38;5;241m=\u001B[39m \u001B[38;5;124m\"\u001B[39m\u001B[38;5;124mraw_input was called, but this frontend does not support input requests.\u001B[39m\u001B[38;5;124m\"\u001B[39m\n\u001B[0;32m   1281\u001B[0m     \u001B[38;5;28;01mraise\u001B[39;00m StdinNotImplementedError(msg)\n\u001B[1;32m-> 1282\u001B[0m \u001B[38;5;28;01mreturn\u001B[39;00m \u001B[38;5;28;43mself\u001B[39;49m\u001B[38;5;241;43m.\u001B[39;49m\u001B[43m_input_request\u001B[49m\u001B[43m(\u001B[49m\n\u001B[0;32m   1283\u001B[0m \u001B[43m    \u001B[49m\u001B[38;5;28;43mstr\u001B[39;49m\u001B[43m(\u001B[49m\u001B[43mprompt\u001B[49m\u001B[43m)\u001B[49m\u001B[43m,\u001B[49m\n\u001B[0;32m   1284\u001B[0m \u001B[43m    \u001B[49m\u001B[38;5;28;43mself\u001B[39;49m\u001B[38;5;241;43m.\u001B[39;49m\u001B[43m_parent_ident\u001B[49m\u001B[43m[\u001B[49m\u001B[38;5;124;43m\"\u001B[39;49m\u001B[38;5;124;43mshell\u001B[39;49m\u001B[38;5;124;43m\"\u001B[39;49m\u001B[43m]\u001B[49m\u001B[43m,\u001B[49m\n\u001B[0;32m   1285\u001B[0m \u001B[43m    \u001B[49m\u001B[38;5;28;43mself\u001B[39;49m\u001B[38;5;241;43m.\u001B[39;49m\u001B[43mget_parent\u001B[49m\u001B[43m(\u001B[49m\u001B[38;5;124;43m\"\u001B[39;49m\u001B[38;5;124;43mshell\u001B[39;49m\u001B[38;5;124;43m\"\u001B[39;49m\u001B[43m)\u001B[49m\u001B[43m,\u001B[49m\n\u001B[0;32m   1286\u001B[0m \u001B[43m    \u001B[49m\u001B[43mpassword\u001B[49m\u001B[38;5;241;43m=\u001B[39;49m\u001B[38;5;28;43;01mFalse\u001B[39;49;00m\u001B[43m,\u001B[49m\n\u001B[0;32m   1287\u001B[0m \u001B[43m\u001B[49m\u001B[43m)\u001B[49m\n",
      "File \u001B[1;32m~\\anaconda3\\envs\\GRCResponder\\lib\\site-packages\\ipykernel\\kernelbase.py:1325\u001B[0m, in \u001B[0;36mKernel._input_request\u001B[1;34m(self, prompt, ident, parent, password)\u001B[0m\n\u001B[0;32m   1322\u001B[0m \u001B[38;5;28;01mexcept\u001B[39;00m \u001B[38;5;167;01mKeyboardInterrupt\u001B[39;00m:\n\u001B[0;32m   1323\u001B[0m     \u001B[38;5;66;03m# re-raise KeyboardInterrupt, to truncate traceback\u001B[39;00m\n\u001B[0;32m   1324\u001B[0m     msg \u001B[38;5;241m=\u001B[39m \u001B[38;5;124m\"\u001B[39m\u001B[38;5;124mInterrupted by user\u001B[39m\u001B[38;5;124m\"\u001B[39m\n\u001B[1;32m-> 1325\u001B[0m     \u001B[38;5;28;01mraise\u001B[39;00m \u001B[38;5;167;01mKeyboardInterrupt\u001B[39;00m(msg) \u001B[38;5;28;01mfrom\u001B[39;00m\u001B[38;5;250m \u001B[39m\u001B[38;5;28;01mNone\u001B[39;00m\n\u001B[0;32m   1326\u001B[0m \u001B[38;5;28;01mexcept\u001B[39;00m \u001B[38;5;167;01mException\u001B[39;00m:\n\u001B[0;32m   1327\u001B[0m     \u001B[38;5;28mself\u001B[39m\u001B[38;5;241m.\u001B[39mlog\u001B[38;5;241m.\u001B[39mwarning(\u001B[38;5;124m\"\u001B[39m\u001B[38;5;124mInvalid Message:\u001B[39m\u001B[38;5;124m\"\u001B[39m, exc_info\u001B[38;5;241m=\u001B[39m\u001B[38;5;28;01mTrue\u001B[39;00m)\n",
      "\u001B[1;31mKeyboardInterrupt\u001B[0m: Interrupted by user"
     ]
    }
   ],
   "execution_count": 60
  },
  {
   "metadata": {},
   "cell_type": "code",
   "outputs": [],
   "execution_count": null,
   "source": "",
   "id": "676d5ebeffcc574d"
  }
 ],
 "metadata": {
  "kernelspec": {
   "display_name": "Python 3",
   "language": "python",
   "name": "python3"
  },
  "language_info": {
   "codemirror_mode": {
    "name": "ipython",
    "version": 2
   },
   "file_extension": ".py",
   "mimetype": "text/x-python",
   "name": "python",
   "nbconvert_exporter": "python",
   "pygments_lexer": "ipython2",
   "version": "2.7.6"
  }
 },
 "nbformat": 4,
 "nbformat_minor": 5
}
