{
 "cells": [
  {
   "cell_type": "code",
   "execution_count": 1,
   "id": "4fe447be",
   "metadata": {},
   "outputs": [],
   "source": [
    "from qdrant_client import QdrantClient\n",
    "from sentence_transformers import SentenceTransformer\n"
   ]
  },
  {
   "cell_type": "code",
   "execution_count": 2,
   "id": "ecfa2937",
   "metadata": {},
   "outputs": [],
   "source": [
    "QDRANT_CONNECTION = 'http://20.163.60.98:6333'\n",
    "EMBEDDING_MODEL = 'all-MiniLM-L6-v2'\n",
    "COLLECTION_NAME = 'GRC_Documents_Large'"
   ]
  },
  {
   "cell_type": "code",
   "execution_count": 3,
   "id": "71af5863",
   "metadata": {},
   "outputs": [],
   "source": [
    "model = SentenceTransformer(EMBEDDING_MODEL)\n",
    "qdrant_client = QdrantClient(url=QDRANT_CONNECTION)"
   ]
  },
  {
   "cell_type": "code",
   "execution_count": null,
   "id": "bd4c33db",
   "metadata": {},
   "outputs": [],
   "source": []
  },
  {
   "cell_type": "code",
   "execution_count": 4,
   "id": "c73bcfd4",
   "metadata": {},
   "outputs": [],
   "source": [
    "def query_qdrant(query: str):\n",
    "    \"\"\"\n",
    "    Query the Qdrant database with a given query string.\n",
    "    \"\"\"\n",
    "    # Create embeddings for the query\n",
    "    query_embedding = model.encode(query).tolist()\n",
    "    \n",
    "    # Perform the search in Qdrant\n",
    "    results = qdrant_client.query_points(\n",
    "        collection_name=COLLECTION_NAME,\n",
    "        query=query_embedding,\n",
    "        limit=300,\n",
    "        with_payload=True,\n",
    "    )\n",
    "    \n",
    "    return results"
   ]
  },
  {
   "cell_type": "code",
   "execution_count": 5,
   "id": "80a2db32",
   "metadata": {},
   "outputs": [
    {
     "name": "stdout",
     "output_type": "stream",
     "text": [
      "Vectors count: None\n",
      "Points count: 2566618\n",
      "Status: green\n"
     ]
    }
   ],
   "source": [
    "collection_info = qdrant_client.get_collection(COLLECTION_NAME)\n",
    "print(f\"Vectors count: {collection_info.vectors_count}\")\n",
    "print(f\"Points count: {collection_info.points_count}\")\n",
    "print(f\"Status: {collection_info.status}\")"
   ]
  },
  {
   "cell_type": "code",
   "execution_count": 10,
   "id": "4ea1b96a",
   "metadata": {},
   "outputs": [
    {
     "name": "stdout",
     "output_type": "stream",
     "text": [
      "id='63450258-b988-5cb1-bc54-e963feec5d29' version=968 score=0.7568855 payload={'chunk_index': 76, 'document_id': '562082344', 'proceeding_id': 'A2504004', 'source_url': 'https://docs.cpuc.ca.gov/PublishedDocs/Efile/G000/M562/K082/562082344.PDF', 'published_date': '04/09/2025', 'year': 0, 'title': 'Application filed by Pacific Gas and Electric Company on 04/09/2025 Conf# 217053', 'doc_type': 'Application', 'text': 'the United States Securities and Exchange Commission on February 13, 2025 for the period \\nending December 31, 2024.  PG&E believes that its utility operations will continue to generate \\nsubstantial cash with which to fund its construction activities, including the Project.'} vector=None shard_key=None order_value=None\n",
      "ID: 63450258-b988-5cb1-bc54-e963feec5d29, Score: 0.7568855\n",
      "Payload: the United States Securities and Exchange Commission on February 13, 2025 for the period \n",
      "ending December 31, 2024.  PG&E believes that its utility operations will continue to generate \n",
      "substantial cash with which to fund its construction activities, including the Project., Chunk Length: 273\n",
      "\n",
      "\n",
      "ID: 8b0dcf26-71b8-54cc-afd3-c67191c5fd4f, Score: 0.7530358\n",
      "Payload: 2024-2026. At least for this rate case cycle, therefore, PG&E’s proposal to spend over \n",
      "seven billion dollars more than TURN’s proposed program provides extremely little additional \n",
      "wildfire risk reduction and begs the question of what is the additional benefit that might \n",
      "warrant such a huge cost difference. (Emphasis in original; footnotes omitted.) \n",
      "794 The period 2024-2026 is used by PG&E because, according to PG&E, some of its analysis does \n",
      "not include 2023 because 2023 is already in progress, stating “PG&E’s analysis in this instance \n",
      "included only 2024-2026 because PG&E’s 2023 workplan is already in progress …” PG&E \n",
      "Opening Brief at 370., Chunk Length: 654\n",
      "\n",
      "\n",
      "ID: a639722e-beb3-5347-ab4b-12ed8fdd1bd5, Score: 0.75256777\n",
      "Payload: PLANS OF PG&E, SCE, AND SDG&E; April 11, 2022; pp. 17-43., Chunk Length: 57\n",
      "\n",
      "\n",
      "ID: 31cb60c9-39f8-5c3e-b825-678e2004aec0, Score: 0.7327846\n",
      "Payload: 2023 and related proposals are just and reasonable and that PG&E may reflect the adopted electric \n",
      "generation revenue requirement in rates effective January 1, 2023., Chunk Length: 165\n",
      "\n",
      "\n",
      "ID: 497d7525-7d71-5b70-a969-1432e5a2be87, Score: 0.7314513\n",
      "Payload: Investments, taking into account the July 11, 2024 SB 410 Decision D.24-07-008 that \n",
      "authorized PG&E to record and track, in an interim memorandum account, costs for \n",
      "energization projects up to incremental capped amounts in 2024, and 2025, and 2026.5 \n",
      "In addition to identifying Planned Investments, PG&E’s 2024 DDOR continues to \n",
      "identify Planned Solutions that are proposed distribution planning projects for which \n",
      "funding within the current planning horizon is not currently planned. However, D.24-07-\n",
      "008 authorized PG&E to request that the Commission revisit the 2025 and 2026 caps \n",
      "upon successful completion of the 2024 forecasted energization projects.6 To the extent \n",
      "that these 2025 and 2026 caps were revised upwards, PG&E would seek to accelerate \n",
      "its forecasted In-Service Dates for its Planned Investments and convert Planned \n",
      "Solutions into Planned Investments, and would report on these changes in its 2025 \n",
      "DDOR. \n",
      " \n",
      " \n",
      " \n",
      "3 See pp. 7-9., Chunk Length: 953\n",
      "\n",
      "\n",
      "ID: c2c0b19e-b617-518f-b689-34561e8d681a, Score: 0.7314513\n",
      "Payload: Investments, taking into account the July 11, 2024 SB 410 Decision D.24-07-008 that \n",
      "authorized PG&E to record and track, in an interim memorandum account, costs for \n",
      "energization projects up to incremental capped amounts in 2024, and 2025, and 2026.5 \n",
      "In addition to identifying Planned Investments, PG&E’s 2024 DDOR continues to \n",
      "identify Planned Solutions that are proposed distribution planning projects for which \n",
      "funding within the current planning horizon is not currently planned. However, D.24-07-\n",
      "008 authorized PG&E to request that the Commission revisit the 2025 and 2026 caps \n",
      "upon successful completion of the 2024 forecasted energization projects.6 To the extent \n",
      "that these 2025 and 2026 caps were revised upwards, PG&E would seek to accelerate \n",
      "its forecasted In-Service Dates for its Planned Investments and convert Planned \n",
      "Solutions into Planned Investments, and would report on these changes in its 2025 \n",
      "DDOR. \n",
      " \n",
      "3 See pp. 7-9., Chunk Length: 949\n",
      "\n",
      "\n",
      "ID: 1fc91d31-1746-5b6d-8e4c-9a0acfcafced, Score: 0.72565484\n",
      "Payload: the end of 2025, it will move to the following year and the capital expenditure will count towards the \n",
      "2026 cap.  However, the 2026 capital expenditures cap is set based only on a forecast of work that \n",
      "would be completed in that year, and does not take into consideration any rollover work from 2025.   \n",
      "As explained above, PG&E has made several process improvements to timely complete the \n",
      "energization work and best mitigate various challenges outside of PG&E’s control, such as: permitting \n",
      "agencies timelines; permitting agencies’ staffing capacity to process requests; land rights disputes; \n",
      "customer readiness; and material availability.  However, as discussed in Section VII, PG&E’s ability to \n",
      "execute work efficiently relies on advance planning and coordination to ensure customer, materials, and \n",
      "permit readiness.  PG&E therefore respectfully request a decision on this Motion by first-quarter 2025 to \n",
      "maximize this planning and coordination.  A decision on the Motion later in 2025 will increase the, Chunk Length: 1014\n",
      "\n",
      "\n",
      "ID: ee1c65eb-76b6-5e18-a29a-13fa05c7f6a3, Score: 0.71853733\n",
      "Payload: PG&E’s requested 2023 forecast of $37.780 million, should be adopted., Chunk Length: 69\n",
      "\n",
      "\n",
      "ID: 62039fbc-6a50-577f-bafa-c774c9aeea44, Score: 0.71685505\n",
      "Payload: years. PG&E plans to continue collaboration with the Commission and stakeholders to \n",
      "meet program goals., Chunk Length: 104\n",
      "\n",
      "\n",
      "ID: b852e305-d453-5491-af40-5d89c6374156, Score: 0.7159191\n",
      "Payload: investments it expects to fund 2022 – 2026; \n",
      "Consistent with PG&E’s 2023 GRC and 2022 third quarter earnings call, PG&E in its \n",
      "2022 fourth quarter earnings call reiterated its commitment to investing in energy infrastructure \n",
      "by increasing its capital expenditures to improve the safety and reliability of its electric system \n",
      "and to achieve the state’s decarbonization and electrification goals in the face of increasing \n",
      "challenges posed by climate change.  PG&E plans to spend approximately $50 billion in capital \n",
      "expenditures between 2023-2027.33  This is a significant increase in capital spending compared \n",
      "to the $39 billion PG&E invested from 2018-2022, and interim rate relief is critical to PG&E’s \n",
      "ability to finance these projects in a timely and cost-effective manner.  \n",
      " \n",
      " \n",
      " \n",
      "32  See PG&E Q4 2022 Presentation and Complete Earnings Exhibits 2022 fourth quarter earnings call \n",
      "presentation slide 25, available at:, Chunk Length: 928\n",
      "\n",
      "\n"
     ]
    }
   ],
   "source": [
    "# Example query\n",
    "query = \"How did PG&E plan for the 2023 year?\"\n",
    "response = query_qdrant(query)\n",
    "# Inspect the response object\n",
    "distances = [point.score for point in response.points]\n",
    "print(response.points[0])\n",
    "for point in response.points[0:10]:  # Display first 10 results\n",
    "    print(f\"ID: {point.id}, Score: {point.score}\\nPayload: {point.payload['text']}, Chunk Length: {len(point.payload['text'])}\\n\\n\")\n",
    "#     # You can access other attributes of the point as needed\n",
    "\n"
   ]
  }
 ],
 "metadata": {
  "kernelspec": {
   "display_name": "Python 3",
   "language": "python",
   "name": "python3"
  },
  "language_info": {
   "codemirror_mode": {
    "name": "ipython",
    "version": 3
   },
   "file_extension": ".py",
   "mimetype": "text/x-python",
   "name": "python",
   "nbconvert_exporter": "python",
   "pygments_lexer": "ipython3",
   "version": "3.12.4"
  }
 },
 "nbformat": 4,
 "nbformat_minor": 5
}
